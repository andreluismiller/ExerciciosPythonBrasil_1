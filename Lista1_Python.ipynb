{
  "nbformat": 4,
  "nbformat_minor": 0,
  "metadata": {
    "colab": {
      "name": "Lista1_Python.ipynb",
      "provenance": [],
      "authorship_tag": "ABX9TyN6Yax7UozEYTV6AlPdmSNG",
      "include_colab_link": true
    },
    "kernelspec": {
      "name": "python3",
      "display_name": "Python 3"
    },
    "language_info": {
      "name": "python"
    }
  },
  "cells": [
    {
      "cell_type": "markdown",
      "metadata": {
        "id": "view-in-github",
        "colab_type": "text"
      },
      "source": [
        "<a href=\"https://colab.research.google.com/github/andreluismiller/ExerciciosPythonBrasil_1/blob/main/Lista1_Python.ipynb\" target=\"_parent\"><img src=\"https://colab.research.google.com/assets/colab-badge.svg\" alt=\"Open In Colab\"/></a>"
      ]
    },
    {
      "cell_type": "code",
      "metadata": {
        "id": "TI0QVcOSEQUy"
      },
      "source": [
        "#Exercício 1\n",
        "print(\"Olá, mundo!\")"
      ],
      "execution_count": null,
      "outputs": []
    },
    {
      "cell_type": "code",
      "metadata": {
        "id": "Ulimej0UEirG"
      },
      "source": [
        "#Exercício 2\n",
        "a = int(input(\"Informe um número inteiro: \"))\n",
        "\n",
        "print(\"O número informado foi {}\".format(a))"
      ],
      "execution_count": null,
      "outputs": []
    },
    {
      "cell_type": "code",
      "metadata": {
        "id": "QqsVYpr1FNIc"
      },
      "source": [
        "#Exercício 3\n",
        "a = int(input(\"Digite o primeiro número: \"))\n",
        "b = int(input(\"Digite o segundo número: \"))\n",
        "soma = a + b\n",
        "\n",
        "print(\"A soma dos números é {}\".format(soma))"
      ],
      "execution_count": null,
      "outputs": []
    },
    {
      "cell_type": "code",
      "metadata": {
        "id": "epGkcy6UF5zu"
      },
      "source": [
        "#Exercício 4\n",
        "a = float(input(\"Digite a nota do primeiro bimestre: \"))\n",
        "b = float(input(\"Digite a nota do segundo bimestre: \"))\n",
        "c = float(input(\"Digite a nota do terceiro bimestre: \"))\n",
        "d = float(input(\"Digite a nota do quarto bimestre: \"))\n",
        "media = (a + b + c + d) / 4\n",
        "\n",
        "print(\"A média do aluno é {}\".format(media))"
      ],
      "execution_count": null,
      "outputs": []
    },
    {
      "cell_type": "code",
      "metadata": {
        "id": "pubz_LGUGt1r"
      },
      "source": [
        "#Exercício 5\n",
        "m = float(input(\"Digite o valor em metros a ser convertido: \"))\n",
        "cm = m * 100\n",
        "\n",
        "print(\"O valor informado em centímetros é {} cm\".format(cm))"
      ],
      "execution_count": null,
      "outputs": []
    },
    {
      "cell_type": "code",
      "metadata": {
        "id": "Wmf2Xu5AHRsL"
      },
      "source": [
        "#Exercício 6\n",
        "r = float(input(\"Digite o valor do raio do círculo: \"))\n",
        "area = (3.14 * (r ** 2))\n",
        "\n",
        "print(\"A área do círculo é de {} cm2\".format(area))"
      ],
      "execution_count": null,
      "outputs": []
    },
    {
      "cell_type": "code",
      "metadata": {
        "id": "CJie7UF7IL0b"
      },
      "source": [
        "#Exercício 7\n",
        "l = float(input(\"Entre com a medida do lado do quadrado: \"))\n",
        "area = l * l\n",
        "\n",
        "print(\"O dobro da área do quadrado é {} cm²\".format((area)*2))"
      ],
      "execution_count": null,
      "outputs": []
    },
    {
      "cell_type": "code",
      "metadata": {
        "id": "cqTdnVSuJaeT"
      },
      "source": [
        "#Exercício 8\n",
        "valor_hora = float(input(\"Qual o valor da sua hora trabalhada? \"))\n",
        "horas_mês = float(input(\"Em média, quantas horas trabalha por mês? \"))\n",
        "\n",
        "print(\"O valor aproximado de seu salário mensal é de R$ {}\".format(valor_hora * horas_mês))"
      ],
      "execution_count": null,
      "outputs": []
    },
    {
      "cell_type": "code",
      "metadata": {
        "id": "dtQa4pOQKT1y"
      },
      "source": [
        "#Exercício 9\n",
        "tf = float(input(\"Digite a temperatura em Farenheit: \"))\n",
        "tc = (tf - 32) / 1.8\n",
        "\n",
        "print(\"A temperatura em Celsius é equivalente a {} °C\".format(tc))"
      ],
      "execution_count": null,
      "outputs": []
    },
    {
      "cell_type": "code",
      "metadata": {
        "id": "T0auJmaXMLhq"
      },
      "source": [
        "#Exercício 10\n",
        "tc = float(input(\"Digite a temperatura em Celsius: \"))\n",
        "tf = (tc * 1.8) + 32 \n",
        "\n",
        "print(\"A temperatura em Celsius é equivalente a {} °F\".format(tf))"
      ],
      "execution_count": null,
      "outputs": []
    },
    {
      "cell_type": "code",
      "metadata": {
        "id": "uW8D8D6BOleI"
      },
      "source": [
        "#Exercício 11\n",
        "a = int(input(\"Digite um número inteiro qualquer: \"))\n",
        "b = int(input(\"Digite outro número inteiro qualquer: \"))\n",
        "c = float(input(\"Agora digite um número real qualquer: \"))\n",
        "\n",
        "produto = (2 * a) * (0.5 * b)\n",
        "soma = (3 * a) + c\n",
        "cubo = c**3\n",
        "\n",
        "print(\"O produto do dobro do primeiro número com a metade do segundo número é {}\".format(produto))\n",
        "print(\"A soma de três vezes o primeiro mais o terceiro número é {}\".format(soma))\n",
        "print(\"O terceiro número elevado ao cubo é igual a {}\".format(cubo))\n",
        "\n",
        "\n"
      ],
      "execution_count": null,
      "outputs": []
    },
    {
      "cell_type": "code",
      "metadata": {
        "id": "jRTBN3mcQByq"
      },
      "source": [
        "#Exercício 12\n",
        "altura = float(input(\"Digite a sua altura: \"))\n",
        "peso_ideal = (72.7*altura) - 58\n",
        "\n",
        "print(\"O peso ideal para sua altura é {} kg\".format(peso_ideal))\n"
      ],
      "execution_count": null,
      "outputs": []
    },
    {
      "cell_type": "code",
      "metadata": {
        "id": "He-cd_HyQ3hH"
      },
      "source": [
        "#Exercício 13\n",
        "altura = float(input(\"Qual a sua altura? \"))\n",
        "sexo = input(\"Qual o seu gênero (M para masculino ou F para feminino)? \" )\n",
        "\n",
        "if (sexo == \"m\"):\n",
        "  pesoM = (72.7*altura) - 58\n",
        "  print(\"O peso ideal para sua altura/gênero é de {} kg\".format(pesoM))\n",
        "elif (sexo == \"f\"):\n",
        "  pesoF = (62.1*altura) - 44.7\n",
        "  print(\"O peso ideal para sua altura/gênero é de {} kg\".format(pesoF))"
      ],
      "execution_count": null,
      "outputs": []
    },
    {
      "cell_type": "code",
      "metadata": {
        "id": "jLzaXHLvTAfg"
      },
      "source": [
        "#Exercício 14\n",
        "peso = float(input(\"João, digite quantos kilos de peixe você pescou hoje: \"))\n",
        "\n",
        "if (peso <= 50):\n",
        "  print(\"João, a pescaria não foi tão boa. Mas pelo menos você não pagará nenhuma multa\")\n",
        "elif (peso > 50):\n",
        "  print(\"Boa pescaria, João. Mas nem tudo são notícias boas\")\n",
        "  excesso = peso - 50\n",
        "  print(\"Você pegou {} kg a mais de peixe, João\".format(excesso))\n",
        "  multa = excesso*4\n",
        "  print(\"Por isso, sua multa será no valor de R$ {}\".format(multa))"
      ],
      "execution_count": null,
      "outputs": []
    },
    {
      "cell_type": "code",
      "metadata": {
        "id": "t5u1iVHtVDB2"
      },
      "source": [
        "#Exercício 15\n",
        "valor_hora = float(input(\"Qual o valor da sua hora trabalhada? \"))\n",
        "horas_mês = float(input(\"Em média, quantas horas trabalha por mês? \"))\n",
        "salario_bruto = (valor_hora * horas_mês)\n",
        "\n",
        "print(\"O valor aproximado de seu salário bruto mensal é de R$ {}\".format(salario_bruto))\n",
        "\n",
        "ir = salario_bruto - (salario_bruto * 0.11)\n",
        "print(\"O valor do seu salário com o desconto de 11% do imposto de renda foi de R$ {}\".format(ir))\n",
        "descontoir = salario_bruto - ir\n",
        "\n",
        "inss = salario_bruto - (salario_bruto * 0.08)\n",
        "print (\"O valor de seu salário com desconto do INSS foi de R$ {}\".format(inss))\n",
        "descontoinss = salario_bruto - inss\n",
        "\n",
        "sindicato = salario_bruto - (salario_bruto * 0.05)\n",
        "print(\"O valor de seu salário com desconto do sindicato foi de R$ {}\".format(sindicato))\n",
        "descontosindicato = salario_bruto - sindicato\n",
        "\n",
        "salario_liquido = salario_bruto - (descontoir + descontoinss + descontosindicato)\n",
        "\n",
        "print(\"O valor de seu salário líquido é de R$ {}\".format(salario_liquido))\n",
        "\n"
      ],
      "execution_count": null,
      "outputs": []
    },
    {
      "cell_type": "code",
      "metadata": {
        "id": "reksoi7zZKFj"
      },
      "source": [
        "#Exercício 16\n",
        "area = float(input(\"Digite o tamanho da área a ser pintada em m²: \"))\n",
        "cobertura = area / 3.0\n",
        "latas = float(cobertura / 18.0)\n",
        "\n",
        "if cobertura % 18.0 != 0:\n",
        "  latas += 1\n",
        "\n",
        "print(\"Você deverá comprar {} latas\" .format(latas))\n",
        "print(\"O valor de sua compra é R$ {}\" .format(latas * 80)) \n",
        "  \n"
      ],
      "execution_count": null,
      "outputs": []
    }
  ]
}